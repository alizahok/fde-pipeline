{
 "cells": [
  {
   "cell_type": "code",
   "execution_count": 18,
   "id": "fef7ce83",
   "metadata": {},
   "outputs": [],
   "source": [
    "from Extractor_Code.csv_extractor import CSVExtractor\n",
    "from Extractor_Code.database_connector import DatabaseConnector\n",
    "from Extractor_Code.api_extractor import APIExtractor\n",
    "from Extractor_Code.s3_extractor import PublicS3Extractor\n",
    "# from Extractor_Code.main_extractor import MainExtractor\n",
    "from Extractor_Code.json_extractor import JSONExtractor\n"
   ]
  },
  {
   "cell_type": "code",
   "execution_count": 19,
   "id": "b57a6d30",
   "metadata": {},
   "outputs": [],
   "source": [
    "from dotenv import load_dotenv\n",
    "import yaml\n",
    "import os"
   ]
  },
  {
   "cell_type": "code",
   "execution_count": null,
   "id": "7c4b2b9d",
   "metadata": {},
   "outputs": [],
   "source": [
    "# adjust this path to where your .env actually lives\n",
    "load_dotenv(r\"C:\\Users\\ASUS\\Desktop\\FDE\\.env\")\n",
    "\n",
    "config_path = r\"C:\\Users\\ASUS\\Desktop\\FDE\\config.yaml\"\n",
    "with open(config_path) as f:\n",
    "    raw = f.read()"
   ]
  },
  {
   "cell_type": "code",
   "execution_count": 21,
   "id": "0c7f461d",
   "metadata": {},
   "outputs": [
    {
     "name": "stdout",
     "output_type": "stream",
     "text": [
      "CONFIG: {'database': {'host': 'localhost', 'database': 'FDE', 'user': 'postgres', 'password': 'newpassword', 'port': 5432}, 's3': {'bucket_name': 'firstworkshop', 'region': 'us-east-1', 'files': {'JSON/products.json': 'lnd_products_json', 'JSON/sales.json': 'lnd_sales_json', 'CSV/customers.csv': 'lnd_customers_csv', 'CSV/products.csv': 'lnd_products_csv', 'CSV/sales.csv': 'lnd_sales_csv'}}, 'api': {'endpoints': {'https://dummyjson.com/products': 'lnd_products_api', 'https://dummyjson.com/users': 'lnd_users_api'}}}\n",
      "TYPE of config['database']: <class 'dict'>\n"
     ]
    }
   ],
   "source": [
    "# expands ${DB_HOST}, ${DB_USER}, etc. using os.environ\n",
    "expanded = os.path.expandvars(raw)\n",
    "config = yaml.safe_load(expanded)\n",
    "\n",
    "# sanity check: should be a dict-of-dicts\n",
    "print(\"CONFIG:\", config)\n",
    "print(\"TYPE of config['database']:\", type(config['database']))"
   ]
  },
  {
   "cell_type": "code",
   "execution_count": 22,
   "id": "399d7469",
   "metadata": {},
   "outputs": [],
   "source": [
    "# 3) instantiate your connector with that dict\n",
    "db = DatabaseConnector(config)"
   ]
  },
  {
   "cell_type": "code",
   "execution_count": 23,
   "id": "4ae18725",
   "metadata": {},
   "outputs": [
    {
     "name": "stdout",
     "output_type": "stream",
     "text": [
      "\n",
      "--- psycopg2 test ---\n",
      "Postgres version: PostgreSQL 17.5 on x86_64-windows, compiled by msvc-19.44.35209, 64-bit\n",
      "Tables in public schema: [('lnd_products_api',), ('lnd_users_api',), ('lnd_products_json',), ('lnd_sales_json',), ('lnd_customers_csv',), ('lnd_products_csv',), ('lnd_sales_csv',)]\n",
      "Table structure: [('id', 'integer'), ('customer_key', 'character varying'), ('gender', 'character varying'), ('name', 'character varying'), ('city', 'character varying'), ('state_code', 'character varying'), ('state', 'character varying'), ('zip_code', 'character varying'), ('country', 'character varying'), ('continent', 'character varying'), ('birthday', 'date'), ('loaded_at', 'timestamp without time zone')]\n"
     ]
    }
   ],
   "source": [
    "# 4) now test psycopg2\n",
    "print(\"\\n--- psycopg2 test ---\")\n",
    "conn = db.get_connection()\n",
    "cur  = conn.cursor()\n",
    "\n",
    "# Test1: Get PostgreSQL version\n",
    "cur.execute(\"SELECT version();\")\n",
    "print(\"Postgres version:\", cur.fetchone()[0])\n",
    "\n",
    "\n",
    "# 2. List all tables in landing schema\n",
    "cur.execute(\"\"\"\n",
    "    SELECT table_name\n",
    "      FROM information_schema.tables\n",
    "     WHERE table_schema = 'landing';\n",
    "\"\"\")\n",
    "print(\"Tables in public schema:\", cur.fetchall())\n",
    "\n",
    "# 3. show the structure of one of the tables\n",
    "cur.execute(\"\"\"\n",
    "    SELECT column_name, data_type\n",
    "      FROM information_schema.columns\n",
    "     WHERE table_schema = 'landing' \n",
    "    AND table_name = 'lnd_customers_csv';\n",
    "\"\"\")\n",
    "print(\"Table structure:\", cur.fetchall())\n",
    "\n",
    "cur.close()\n",
    "conn.close()"
   ]
  },
  {
   "cell_type": "code",
   "execution_count": 24,
   "id": "15846a16",
   "metadata": {},
   "outputs": [
    {
     "name": "stdout",
     "output_type": "stream",
     "text": [
      "\n",
      "--- SQLAlchemy engine test ---\n",
      "Connected to database: FDE\n",
      "landing.lnd_customers_csv\n",
      "Columns in lnd_customers_csv: [{'name': 'id', 'type': INTEGER(), 'nullable': False, 'default': \"nextval('landing.lnd_customers_csv_id_seq'::regclass)\", 'autoincrement': True, 'comment': None}, {'name': 'customer_key', 'type': VARCHAR(length=50), 'nullable': True, 'default': None, 'autoincrement': False, 'comment': None}, {'name': 'gender', 'type': VARCHAR(length=20), 'nullable': True, 'default': None, 'autoincrement': False, 'comment': None}, {'name': 'name', 'type': VARCHAR(length=255), 'nullable': True, 'default': None, 'autoincrement': False, 'comment': None}, {'name': 'city', 'type': VARCHAR(length=100), 'nullable': True, 'default': None, 'autoincrement': False, 'comment': None}, {'name': 'state_code', 'type': VARCHAR(length=50), 'nullable': True, 'default': None, 'autoincrement': False, 'comment': None}, {'name': 'state', 'type': VARCHAR(length=100), 'nullable': True, 'default': None, 'autoincrement': False, 'comment': None}, {'name': 'zip_code', 'type': VARCHAR(length=20), 'nullable': True, 'default': None, 'autoincrement': False, 'comment': None}, {'name': 'country', 'type': VARCHAR(length=100), 'nullable': True, 'default': None, 'autoincrement': False, 'comment': None}, {'name': 'continent', 'type': VARCHAR(length=50), 'nullable': True, 'default': None, 'autoincrement': False, 'comment': None}, {'name': 'birthday', 'type': DATE(), 'nullable': True, 'default': None, 'autoincrement': False, 'comment': None}, {'name': 'loaded_at', 'type': TIMESTAMP(), 'nullable': True, 'default': 'CURRENT_TIMESTAMP', 'autoincrement': False, 'comment': None}]\n"
     ]
    }
   ],
   "source": [
    "# 5) and test SQLAlchemy engine\n",
    "from sqlalchemy import text, MetaData, Table, inspect\n",
    "print(\"\\n--- SQLAlchemy engine test ---\")\n",
    "engine = db.get_engine()\n",
    "\n",
    "with engine.connect() as conn2:\n",
    "    dbname = conn2.execute(text(\"SELECT current_database();\")).scalar()\n",
    "    print(\"Connected to database:\", dbname)\n",
    "\n",
    "my_table = Table('lnd_customers_csv', MetaData(), autoload_with=engine,schema='landing')\n",
    "print(my_table)\n",
    "\n",
    "# 2. Create an Inspector\n",
    "inspector = inspect(engine)\n",
    "# 3. Pull column info for landing.your_table\n",
    "columns = inspector.get_columns('lnd_customers_csv', schema='landing')\n",
    "print(\"Columns in lnd_customers_csv:\", columns)"
   ]
  },
  {
   "cell_type": "code",
   "execution_count": null,
   "id": "a321a6bc",
   "metadata": {},
   "outputs": [],
   "source": []
  }
 ],
 "metadata": {
  "kernelspec": {
   "display_name": "venv (3.13.1)",
   "language": "python",
   "name": "python3"
  },
  "language_info": {
   "codemirror_mode": {
    "name": "ipython",
    "version": 3
   },
   "file_extension": ".py",
   "mimetype": "text/x-python",
   "name": "python",
   "nbconvert_exporter": "python",
   "pygments_lexer": "ipython3",
   "version": "3.13.1"
  }
 },
 "nbformat": 4,
 "nbformat_minor": 5
}
