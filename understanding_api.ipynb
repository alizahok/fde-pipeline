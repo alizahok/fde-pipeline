{
 "cells": [
  {
   "cell_type": "code",
   "execution_count": 27,
   "id": "9f529a16",
   "metadata": {},
   "outputs": [],
   "source": [
    "from Extractor_Code.json_extractor import JSONExtractor\n",
    "from Extractor_Code.database_connector import DatabaseConnector\n",
    "from Extractor_Code.api_extractor import APIExtractor\n"
   ]
  },
  {
   "cell_type": "code",
   "execution_count": 28,
   "id": "2e9e5993",
   "metadata": {},
   "outputs": [],
   "source": [
    "from dotenv import load_dotenv\n",
    "import yaml\n",
    "import os"
   ]
  },
  {
   "cell_type": "code",
   "execution_count": null,
   "id": "656ced4a",
   "metadata": {},
   "outputs": [
    {
     "ename": "",
     "evalue": "",
     "output_type": "error",
     "traceback": [
      "\u001b[1;31mRunning cells with 'Python 3.12.0' requires the ipykernel package.\n",
      "\u001b[1;31m<a href='command:jupyter.createPythonEnvAndSelectController'>Create a Python Environment</a> with the required packages.\n",
      "\u001b[1;31mOr install 'ipykernel' using the command: 'c:/Users/ASUS/AppData/Local/Programs/Python/Python312/python.exe -m pip install ipykernel -U --user --force-reinstall'"
     ]
    }
   ],
   "source": [
    "# adjust this path to where your .env actually lives\n",
    "load_dotenv(r\"C:\\Users\\ASUS\\Desktop\\FDE\\.env\")\n",
    "\n",
    "config_path = r\"C:\\Users\\ASUS\\Desktop\\FDE\\config.yaml\"\n",
    "with open(config_path) as f:\n",
    "    raw = f.read()"
   ]
  },
  {
   "cell_type": "code",
   "execution_count": null,
   "id": "422c7bb6",
   "metadata": {},
   "outputs": [],
   "source": [
    "# expands ${DB_HOST}, ${DB_USER}, etc. using os.environ\n",
    "expanded = os.path.expandvars(raw)\n",
    "config = yaml.safe_load(expanded)\n",
    "\n",
    "# sanity check: should be a dict-of-dicts\n",
    "print(\"CONFIG:\", config)\n",
    "print(\"TYPE of config['database']:\", type(config['database']))"
   ]
  },
  {
   "cell_type": "code",
   "execution_count": null,
   "id": "aa33fc25",
   "metadata": {},
   "outputs": [],
   "source": [
    "# 3) instantiate your connector with that dict\n",
    "db = DatabaseConnector(config)"
   ]
  },
  {
   "cell_type": "code",
   "execution_count": null,
   "id": "f10ffd53",
   "metadata": {},
   "outputs": [],
   "source": [
    "conn = db.get_connection()\n",
    "cursor = conn.cursor()\n"
   ]
  },
  {
   "cell_type": "code",
   "execution_count": null,
   "id": "f6935388",
   "metadata": {},
   "outputs": [],
   "source": [
    "table_name = 'lnd_products_json'\n"
   ]
  },
  {
   "cell_type": "code",
   "execution_count": null,
   "id": "1903ef8e",
   "metadata": {},
   "outputs": [],
   "source": [
    "cursor.execute(\"\"\"\n",
    "    SELECT column_name\n",
    "    FROM information_schema.columns\n",
    "    WHERE table_schema = 'Landing' AND table_name = %s\n",
    "\"\"\", (table_name,))\n",
    "columns = [row[0] for row in cursor.fetchall()]\n",
    "has_file_name = 'file_name' in columns\n",
    "print(f\"Table '{table_name}' has 'file_name' column: {has_file_name}\")"
   ]
  },
  {
   "cell_type": "markdown",
   "id": "12b45c06",
   "metadata": {},
   "source": [
    "### API\n"
   ]
  },
  {
   "cell_type": "code",
   "execution_count": null,
   "id": "1525fa04",
   "metadata": {},
   "outputs": [],
   "source": [
    "config['api']['endpoints']"
   ]
  },
  {
   "cell_type": "code",
   "execution_count": null,
   "id": "d64184fe",
   "metadata": {},
   "outputs": [],
   "source": [
    "json_extractor = JSONExtractor(db)"
   ]
  },
  {
   "cell_type": "code",
   "execution_count": null,
   "id": "3d4b2dbf",
   "metadata": {},
   "outputs": [],
   "source": [
    "api_extractor = APIExtractor(config,json_extractor)"
   ]
  },
  {
   "cell_type": "code",
   "execution_count": null,
   "id": "221d885b",
   "metadata": {},
   "outputs": [],
   "source": [
    "api_extractor.extract_endpoint('https://dummyjson.com/products', 'lnd_products_api')"
   ]
  },
  {
   "cell_type": "code",
   "execution_count": null,
   "id": "303c4f93",
   "metadata": {},
   "outputs": [],
   "source": [
    "api_extractor.extract_all()"
   ]
  },
  {
   "cell_type": "code",
   "execution_count": null,
   "id": "4b73cebc",
   "metadata": {},
   "outputs": [],
   "source": []
  }
 ],
 "metadata": {
  "kernelspec": {
   "display_name": "venv (3.13.1)",
   "language": "python",
   "name": "python3"
  },
  "language_info": {
   "codemirror_mode": {
    "name": "ipython",
    "version": 3
   },
   "file_extension": ".py",
   "mimetype": "text/x-python",
   "name": "python",
   "nbconvert_exporter": "python",
   "pygments_lexer": "ipython3",
   "version": "3.13.1"
  }
 },
 "nbformat": 4,
 "nbformat_minor": 5
}
