{
 "cells": [
  {
   "cell_type": "code",
   "execution_count": 24,
   "id": "574a8b7a",
   "metadata": {},
   "outputs": [],
   "source": [
    "from Extractor_Code.s3_extractor import PublicS3Extractor\n",
    "from Extractor_Code.main_extractor import MainExtractor\n",
    "from Extractor_Code.database_connector import DatabaseConnector\n",
    "from Extractor_Code.csv_extractor import CSVExtractor\n",
    "from Extractor_Code.json_extractor import JSONExtractor "
   ]
  },
  {
   "cell_type": "code",
   "execution_count": null,
   "id": "727aef7f",
   "metadata": {},
   "outputs": [
    {
     "name": "stdout",
     "output_type": "stream",
     "text": [
      "CONFIG: {'database': {'host': 'localhost', 'database': 'FDE', 'user': 'postgres', 'password': 'newpassword', 'port': 5432}, 's3': {'bucket_name': 'firstworkshop', 'region': 'us-east-1', 'files': {'JSON/products.json': 'lnd_products_json', 'JSON/sales.json': 'lnd_sales_json', 'CSV/customers.csv': 'lnd_customers_csv', 'CSV/products.csv': 'lnd_products_csv', 'CSV/sales.csv': 'lnd_sales_csv'}}, 'api': {'endpoints': {'https://dummyjson.com/products': 'lnd_products_api', 'https://dummyjson.com/users': 'lnd_users_api'}}}\n",
      "TYPE of config['database']: <class 'dict'>\n"
     ]
    }
   ],
   "source": [
    "from dotenv import load_dotenv\n",
    "import yaml\n",
    "import os\n",
    "\n",
    "# adjust this path to where your .env actually lives\n",
    "load_dotenv(r\"C:\\Users\\ASUS\\Desktop\\FDE\\.env\")\n",
    "\n",
    "config_path = r\"C:\\Users\\ASUS\\Desktop\\FDE\\config.yaml\"\n",
    "with open(config_path) as f:\n",
    "    raw = f.read()\n",
    "\n",
    "\n",
    "# expands ${DB_HOST}, ${DB_USER}, etc. using os.environ\n",
    "expanded = os.path.expandvars(raw)\n",
    "config = yaml.safe_load(expanded)\n",
    "\n",
    "# sanity check: should be a dict-of-dicts\n",
    "print(\"CONFIG:\", config)\n",
    "print(\"TYPE of config['database']:\", type(config['database']))"
   ]
  },
  {
   "cell_type": "code",
   "execution_count": 26,
   "id": "91167636",
   "metadata": {},
   "outputs": [],
   "source": [
    "# 3) instantiate your connector with that dict\n",
    "db = DatabaseConnector(config)\n",
    "csv_extractor = CSVExtractor(db)\n",
    "main_extractor = MainExtractor(config_path=config_path)\n",
    "json_extractor = JSONExtractor(db)\n",
    "s3_extractor = PublicS3Extractor(config, json_extractor, csv_extractor, main_extractor)"
   ]
  },
  {
   "cell_type": "code",
   "execution_count": 27,
   "id": "ef70dc51",
   "metadata": {},
   "outputs": [],
   "source": [
    "table_name = \"lnd_sales_csv\"  # replace"
   ]
  },
  {
   "cell_type": "code",
   "execution_count": 28,
   "id": "5e10c1ab",
   "metadata": {},
   "outputs": [
    {
     "name": "stderr",
     "output_type": "stream",
     "text": [
      "INFO:Extractor_Code.main_extractor:Table landing.lnd_sales_csv has columns: ['id', 'order_number', 'line_item', 'order_date', 'delivery_date', 'customer_key', 'store_key', 'product_key', 'quantity', 'currency_code', 'loaded_at']\n"
     ]
    },
    {
     "name": "stdout",
     "output_type": "stream",
     "text": [
      "Table columns: ['id', 'order_number', 'line_item', 'order_date', 'delivery_date', 'customer_key', 'store_key', 'product_key', 'quantity', 'currency_code', 'loaded_at']\n"
     ]
    }
   ],
   "source": [
    "table_columns = main_extractor.get_table_columns(table_name=table_name)\n",
    "print(\"Table columns:\", table_columns)"
   ]
  },
  {
   "cell_type": "code",
   "execution_count": 29,
   "id": "e1507725",
   "metadata": {},
   "outputs": [
    {
     "data": {
      "text/plain": [
       "['customerKey',\n",
       " 'StoreID',\n",
       " 'orderDate',\n",
       " 'XMLData',\n",
       " 'userProfileURL',\n",
       " 'HTTPRequest',\n",
       " 'SSLCertificate',\n",
       " 'simpleTest',\n",
       " 'CSVFileFormat',\n",
       " 'lastUpdatedAt']"
      ]
     },
     "execution_count": 29,
     "metadata": {},
     "output_type": "execute_result"
    }
   ],
   "source": [
    "test_list = examples = [\n",
    "    \"customerKey\",  \n",
    "    \"StoreID\",        \n",
    "    \"orderDate\",     \n",
    "    \"XMLData\",    \n",
    "    \"userProfileURL\",  \n",
    "    \"HTTPRequest\",     \n",
    "    \"SSLCertificate\",\n",
    "    \"simpleTest\",      \n",
    "    \"CSVFileFormat\",    \n",
    "    \"lastUpdatedAt\", \n",
    "]\n",
    "test_list"
   ]
  },
  {
   "cell_type": "code",
   "execution_count": 30,
   "id": "499b465a",
   "metadata": {},
   "outputs": [
    {
     "name": "stdout",
     "output_type": "stream",
     "text": [
      "customer_key\n",
      "store_id\n",
      "order_date\n",
      "xml_data\n",
      "user_profile_url\n",
      "http_request\n",
      "ssl_certificate\n",
      "simple_test\n",
      "csv_file_format\n",
      "last_updated_at\n"
     ]
    }
   ],
   "source": [
    "for item in test_list:\n",
    "    print(CSVExtractor.camel_to_snake(item))"
   ]
  },
  {
   "cell_type": "code",
   "execution_count": 31,
   "id": "2fc480c0",
   "metadata": {},
   "outputs": [
    {
     "data": {
      "text/plain": [
       "{'JSON/products.json': 'lnd_products_json',\n",
       " 'JSON/sales.json': 'lnd_sales_json',\n",
       " 'CSV/customers.csv': 'lnd_customers_csv',\n",
       " 'CSV/products.csv': 'lnd_products_csv',\n",
       " 'CSV/sales.csv': 'lnd_sales_csv'}"
      ]
     },
     "execution_count": 31,
     "metadata": {},
     "output_type": "execute_result"
    }
   ],
   "source": [
    "files_mapping = config['s3']['files']\n",
    "files_mapping"
   ]
  },
  {
   "cell_type": "code",
   "execution_count": 32,
   "id": "ecc1e94b",
   "metadata": {},
   "outputs": [
    {
     "name": "stdout",
     "output_type": "stream",
     "text": [
      "Public URL for JSON/products.json: https://firstworkshop.s3.us-east-1.amazonaws.com/JSON/products.json\n",
      "Public URL for JSON/sales.json: https://firstworkshop.s3.us-east-1.amazonaws.com/JSON/sales.json\n",
      "Public URL for CSV/customers.csv: https://firstworkshop.s3.us-east-1.amazonaws.com/CSV/customers.csv\n",
      "Public URL for CSV/products.csv: https://firstworkshop.s3.us-east-1.amazonaws.com/CSV/products.csv\n",
      "Public URL for CSV/sales.csv: https://firstworkshop.s3.us-east-1.amazonaws.com/CSV/sales.csv\n"
     ]
    }
   ],
   "source": [
    "for s3_key, file_info in files_mapping.items():\n",
    "    public_url = s3_extractor.get_public_url(s3_key)\n",
    "    print(f\"Public URL for {s3_key}: {public_url}\")"
   ]
  }
 ],
 "metadata": {
  "kernelspec": {
   "display_name": "venv (3.13.1)",
   "language": "python",
   "name": "python3"
  },
  "language_info": {
   "codemirror_mode": {
    "name": "ipython",
    "version": 3
   },
   "file_extension": ".py",
   "mimetype": "text/x-python",
   "name": "python",
   "nbconvert_exporter": "python",
   "pygments_lexer": "ipython3",
   "version": "3.13.1"
  }
 },
 "nbformat": 4,
 "nbformat_minor": 5
}
